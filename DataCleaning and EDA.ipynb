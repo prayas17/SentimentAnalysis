{
 "cells": [
  {
   "cell_type": "code",
   "execution_count": 1,
   "id": "21b10adf-25c8-4f23-8b95-3acf9641fb38",
   "metadata": {},
   "outputs": [],
   "source": [
    "import pandas as pd"
   ]
  },
  {
   "cell_type": "code",
   "execution_count": 2,
   "id": "cb5637b8-79f7-49a5-9e75-7ff7299acb08",
   "metadata": {},
   "outputs": [],
   "source": [
    "data = pd.read_csv(\"hate.csv\" , encoding='latin1')  \n",
    "# We have to specify the encoding type because by default it encode in UTF-8 encoding and it gives error \n",
    "# Therefore we encoded it in latin1"
   ]
  },
  {
   "cell_type": "markdown",
   "id": "49211f33-d836-4b17-8de6-8fcd6d82a822",
   "metadata": {},
   "source": [
    "## Going through data"
   ]
  },
  {
   "cell_type": "code",
   "execution_count": 3,
   "id": "84609069-828c-4f47-93d7-eb572a10b415",
   "metadata": {},
   "outputs": [
    {
     "data": {
      "text/plain": [
       "(41144, 3)"
      ]
     },
     "execution_count": 3,
     "metadata": {},
     "output_type": "execute_result"
    }
   ],
   "source": [
    "data.shape"
   ]
  },
  {
   "cell_type": "code",
   "execution_count": 4,
   "id": "fa21327c-cc89-4aea-b583-25aeff1bfc68",
   "metadata": {},
   "outputs": [
    {
     "data": {
      "text/plain": [
       "Index(['Unnamed: 0', 'comment', 'label'], dtype='object')"
      ]
     },
     "execution_count": 4,
     "metadata": {},
     "output_type": "execute_result"
    }
   ],
   "source": [
    "data.columns"
   ]
  },
  {
   "cell_type": "code",
   "execution_count": 5,
   "id": "2f59d3ea-1446-432c-afbe-97cd2fd7e2a5",
   "metadata": {},
   "outputs": [
    {
     "data": {
      "text/plain": [
       "array(['N', 'P', 'O'], dtype=object)"
      ]
     },
     "execution_count": 5,
     "metadata": {},
     "output_type": "execute_result"
    }
   ],
   "source": [
    "data['label'].unique()"
   ]
  },
  {
   "cell_type": "code",
   "execution_count": 6,
   "id": "1a9b3a10-6da8-435b-a887-7b0920ec4bb3",
   "metadata": {},
   "outputs": [
    {
     "data": {
      "text/html": [
       "<div>\n",
       "<style scoped>\n",
       "    .dataframe tbody tr th:only-of-type {\n",
       "        vertical-align: middle;\n",
       "    }\n",
       "\n",
       "    .dataframe tbody tr th {\n",
       "        vertical-align: top;\n",
       "    }\n",
       "\n",
       "    .dataframe thead th {\n",
       "        text-align: right;\n",
       "    }\n",
       "</style>\n",
       "<table border=\"1\" class=\"dataframe\">\n",
       "  <thead>\n",
       "    <tr style=\"text-align: right;\">\n",
       "      <th></th>\n",
       "      <th>Unnamed: 0</th>\n",
       "      <th>comment</th>\n",
       "      <th>label</th>\n",
       "    </tr>\n",
       "  </thead>\n",
       "  <tbody>\n",
       "    <tr>\n",
       "      <th>0</th>\n",
       "      <td>1</td>\n",
       "      <td>dalits are lowlives</td>\n",
       "      <td>N</td>\n",
       "    </tr>\n",
       "    <tr>\n",
       "      <th>1</th>\n",
       "      <td>2</td>\n",
       "      <td>gay people are a burden to our society</td>\n",
       "      <td>N</td>\n",
       "    </tr>\n",
       "    <tr>\n",
       "      <th>2</th>\n",
       "      <td>3</td>\n",
       "      <td>Arabs are not welcome</td>\n",
       "      <td>N</td>\n",
       "    </tr>\n",
       "    <tr>\n",
       "      <th>3</th>\n",
       "      <td>4</td>\n",
       "      <td>I'm not saying we should actually eliminate he...</td>\n",
       "      <td>N</td>\n",
       "    </tr>\n",
       "    <tr>\n",
       "      <th>4</th>\n",
       "      <td>5</td>\n",
       "      <td>bananas are for black people</td>\n",
       "      <td>N</td>\n",
       "    </tr>\n",
       "  </tbody>\n",
       "</table>\n",
       "</div>"
      ],
      "text/plain": [
       "   Unnamed: 0                                            comment label\n",
       "0           1                                dalits are lowlives     N\n",
       "1           2             gay people are a burden to our society     N\n",
       "2           3                              Arabs are not welcome     N\n",
       "3           4  I'm not saying we should actually eliminate he...     N\n",
       "4           5                       bananas are for black people     N"
      ]
     },
     "execution_count": 6,
     "metadata": {},
     "output_type": "execute_result"
    }
   ],
   "source": [
    "data.head()"
   ]
  },
  {
   "cell_type": "code",
   "execution_count": 7,
   "id": "b527b8df-e228-4169-9054-5a90be88a888",
   "metadata": {},
   "outputs": [],
   "source": [
    "#Used this because comment are not displaying full \n",
    "pd.set_option('display.max_colwidth', None)"
   ]
  },
  {
   "cell_type": "code",
   "execution_count": 8,
   "id": "52ffc73e-36bb-4c29-bc9f-14ef91b3d7bc",
   "metadata": {},
   "outputs": [
    {
     "data": {
      "text/plain": [
       "Unnamed: 0    0\n",
       "comment       0\n",
       "label         0\n",
       "dtype: int64"
      ]
     },
     "execution_count": 8,
     "metadata": {},
     "output_type": "execute_result"
    }
   ],
   "source": [
    "# Checking NULL values\n",
    "data.isnull().sum()"
   ]
  },
  {
   "cell_type": "code",
   "execution_count": 9,
   "id": "3ab11b9f-8592-47ef-a764-d041e7a1aace",
   "metadata": {},
   "outputs": [
    {
     "name": "stdout",
     "output_type": "stream",
     "text": [
      "label\n",
      "N    22158\n",
      "P    18950\n",
      "O       36\n",
      "Name: count, dtype: int64\n"
     ]
    }
   ],
   "source": [
    "print(data['label'].value_counts())\n",
    "label_counts = data['label'].value_counts()"
   ]
  },
  {
   "cell_type": "code",
   "execution_count": 10,
   "id": "8cc42e34-f1bd-4c75-8cae-a9a791ffb4ea",
   "metadata": {},
   "outputs": [
    {
     "data": {
      "image/png": "[encoded data removed]",
      "text/plain": [
       "<Figure size 600x400 with 1 Axes>"
      ]
     },
     "metadata": {},
     "output_type": "display_data"
    }
   ],
   "source": [
    "import matplotlib.pyplot as plt\n",
    "\n",
    "plt.figure(figsize=(6, 4))  \n",
    "\n",
    "label_counts.plot(kind='bar')\n",
    "\n",
    "plt.xlabel('Label', fontsize=12)  \n",
    "plt.ylabel('Count', fontsize=12) \n",
    "plt.title('Counts of Different Labels', fontsize=14)  \n",
    "\n",
    "plt.xticks(rotation=0)  \n",
    "\n",
    "plt.tight_layout()\n",
    "plt.show()\n"
   ]
  },
  {
   "cell_type": "code",
   "execution_count": 11,
   "id": "7f87cefc-1371-4715-a134-efd55b83ba3e",
   "metadata": {},
   "outputs": [],
   "source": [
    "#From this figure we can clearly see that there is the label 'O' has too less data compared to other two labels \n",
    "#which leads to data imbalance\n",
    "#It can lead to biased result "
   ]
  },
  {
   "cell_type": "code",
   "execution_count": null,
   "id": "f0602429-df6b-4e12-a743-76d199b52d91",
   "metadata": {},
   "outputs": [],
   "source": []
  },
  {
   "cell_type": "markdown",
   "id": "c09d3aa0-bdae-4e13-a481-2c14d2dae84b",
   "metadata": {},
   "source": [
    "## Data Cleaning"
   ]
  },
  {
   "cell_type": "code",
   "execution_count": 12,
   "id": "35824fc7-efcd-4233-b715-00d44b4c57cb",
   "metadata": {},
   "outputs": [],
   "source": [
    "# In NLP dataset the data cleaning is of different type\n",
    "# The data cleaning includes\n",
    "#1 - Text Lowercasing\n",
    "#2 - Remove special characters, punctuation, and symbols\n",
    "#3 - Remove numbers and non-alphabetic characters\n",
    "#4 - Remove stop words\n",
    "#5 - Tokenization (Most Important)\n",
    "#6 - Stemming or Lemmatization"
   ]
  },
  {
   "cell_type": "code",
   "execution_count": null,
   "id": "0680b981-d724-4bd6-87c8-517aa3ccddbb",
   "metadata": {},
   "outputs": [],
   "source": []
  },
  {
   "cell_type": "markdown",
   "id": "5a7aeaae-f323-41b9-bb7c-a4c76fbe4540",
   "metadata": {},
   "source": [
    "##### Text Lowercasing"
   ]
  },
  {
   "cell_type": "code",
   "execution_count": 13,
   "id": "f07f346e-b25f-4596-a7e8-d1aec3abe8dd",
   "metadata": {},
   "outputs": [],
   "source": [
    "#We use pre-built method for this\n",
    "data['comment'] = data['comment'].str.lower()\n"
   ]
  },
  {
   "cell_type": "markdown",
   "id": "9ef29c9f-e4ab-42fc-9f04-6c6e4bde6883",
   "metadata": {},
   "source": [
    "##### Remove special characters, punctuation, and symbols"
   ]
  },
  {
   "cell_type": "code",
   "execution_count": 14,
   "id": "3b0b7e29-b927-4622-b0d0-af020c928e6a",
   "metadata": {},
   "outputs": [],
   "source": [
    "import re \n",
    "#re module in python is used for working with regular expression and also string manipulation"
   ]
  },
  {
   "cell_type": "code",
   "execution_count": 15,
   "id": "eeba1a59-c8e0-4f21-b7eb-bb43652479d2",
   "metadata": {},
   "outputs": [],
   "source": [
    "def remove_special_characters(text):\n",
    "    pattern = r'[^a-zA-Z0-9\\s]'  # Define regex pattern to match symbols, special characters, and punctuation\n",
    "    return re.sub(pattern, '', text)  \n",
    "\n",
    "data['comment'] = data['comment'].apply(remove_special_characters)"
   ]
  },
  {
   "cell_type": "code",
   "execution_count": null,
   "id": "c1e63450-f8fb-489c-b851-26ed6aa8f8d1",
   "metadata": {},
   "outputs": [],
   "source": []
  },
  {
   "cell_type": "markdown",
   "id": "f313bdc7-5a33-4e6b-b676-a99cf07d8f56",
   "metadata": {},
   "source": [
    "##### Remove Stop Words"
   ]
  },
  {
   "cell_type": "code",
   "execution_count": 16,
   "id": "9ed94940-3541-4d81-82c8-0831f67cd4ad",
   "metadata": {},
   "outputs": [
    {
     "name": "stderr",
     "output_type": "stream",
     "text": [
      "[nltk_data] Downloading package stopwords to C:\\Users\\Prayas\n",
      "[nltk_data]     jain\\AppData\\Roaming\\nltk_data...\n",
      "[nltk_data]   Package stopwords is already up-to-date!\n"
     ]
    }
   ],
   "source": [
    "import nltk\n",
    "#This is Natural Language Toolkit Library used in NLP\n",
    "#It is the most popular library\n",
    "\n",
    "from nltk.corpus import stopwords\n",
    "\n",
    "nltk.download('stopwords')\n",
    "\n",
    "def remove_stopwords(text):\n",
    "    stop_words = set(stopwords.words('english'))\n",
    "    \n",
    "    cleaned_text = ' '.join([word for word in text.split() if word not in stop_words])\n",
    "    \n",
    "    return cleaned_text\n",
    "\n",
    "data['comment'] = data['comment'].apply(remove_stopwords)\n"
   ]
  },
  {
   "cell_type": "code",
   "execution_count": null,
   "id": "327658ff-e4f0-482d-b656-a25b92dbd7a5",
   "metadata": {},
   "outputs": [],
   "source": []
  },
  {
   "cell_type": "markdown",
   "id": "2f2b5108-2478-443f-9761-9bd38f69e5cd",
   "metadata": {},
   "source": [
    "##### Tokenization "
   ]
  },
  {
   "cell_type": "code",
   "execution_count": 17,
   "id": "2bb81f82-35c0-4e3e-bd84-c66a842d4315",
   "metadata": {},
   "outputs": [
    {
     "name": "stderr",
     "output_type": "stream",
     "text": [
      "[nltk_data] Downloading package punkt to C:\\Users\\Prayas\n",
      "[nltk_data]     jain\\AppData\\Roaming\\nltk_data...\n",
      "[nltk_data]   Package punkt is already up-to-date!\n"
     ]
    }
   ],
   "source": [
    "from nltk.tokenize import word_tokenize\n",
    "nltk.download('punkt')\n",
    "def tokenize_text(text):\n",
    "    return word_tokenize(text)\n",
    "data['token'] = data['comment'].apply(tokenize_text)\n"
   ]
  },
  {
   "cell_type": "code",
   "execution_count": null,
   "id": "6595f10a-f3b4-4647-aeb8-dcd5195fb00d",
   "metadata": {},
   "outputs": [],
   "source": []
  },
  {
   "cell_type": "markdown",
   "id": "d7b6d4b3-514a-47b5-bd82-4779eb7716e6",
   "metadata": {},
   "source": [
    "##### Stemming"
   ]
  },
  {
   "cell_type": "code",
   "execution_count": 18,
   "id": "32541930-c597-4d5b-ad2f-2c0d4fa12440",
   "metadata": {},
   "outputs": [
    {
     "name": "stderr",
     "output_type": "stream",
     "text": [
      "[nltk_data] Downloading package punkt to C:\\Users\\Prayas\n",
      "[nltk_data]     jain\\AppData\\Roaming\\nltk_data...\n",
      "[nltk_data]   Package punkt is already up-to-date!\n"
     ]
    }
   ],
   "source": [
    "from nltk.stem import PorterStemmer\n",
    "nltk.download('punkt')\n",
    "stemmer = PorterStemmer()\n",
    "def stem_tokens(tokens):\n",
    "    stemmed_tokens = [stemmer.stem(token) for token in tokens]  \n",
    "    return stemmed_tokens\n",
    "\n",
    "data['stemmed_token'] = data['token'].apply(stem_tokens)"
   ]
  },
  {
   "cell_type": "code",
   "execution_count": null,
   "id": "ccc55567-e662-475d-b027-02e4abd18e7a",
   "metadata": {},
   "outputs": [],
   "source": []
  },
  {
   "cell_type": "markdown",
   "id": "c08b406c-f29a-45e7-885d-45f83ba79752",
   "metadata": {},
   "source": [
    "##### lemmatisation"
   ]
  },
  {
   "cell_type": "code",
   "execution_count": 19,
   "id": "04fdaf19-8364-47fb-bd2a-a8bb4b787f0e",
   "metadata": {},
   "outputs": [
    {
     "name": "stderr",
     "output_type": "stream",
     "text": [
      "[nltk_data] Downloading package wordnet to C:\\Users\\Prayas\n",
      "[nltk_data]     jain\\AppData\\Roaming\\nltk_data...\n",
      "[nltk_data]   Package wordnet is already up-to-date!\n"
     ]
    }
   ],
   "source": [
    "from nltk.stem import WordNetLemmatizer\n",
    "\n",
    "nltk.download('wordnet')\n",
    "\n",
    "# Initialize the WordNet lemmatizer\n",
    "lemmatizer = WordNetLemmatizer()\n",
    "\n",
    "# Example function to lemmatize a list of tokens\n",
    "def lemmatize_tokens(tokens):\n",
    "    lemmatized_tokens = [lemmatizer.lemmatize(token) for token in tokens]\n",
    "    return lemmatized_tokens\n",
    "\n",
    "# Assuming 'data' is your DataFrame with a column 'stemmed_token'\n",
    "data['lemmatized_token'] = data['stemmed_token'].apply(lemmatize_tokens)\n"
   ]
  },
  {
   "cell_type": "code",
   "execution_count": null,
   "id": "4940b5ff-34b0-460f-9940-2494699aeb73",
   "metadata": {},
   "outputs": [],
   "source": []
  },
  {
   "cell_type": "code",
   "execution_count": 20,
   "id": "0f1f77dd-e112-4e49-a361-2bbfce36af33",
   "metadata": {},
   "outputs": [],
   "source": [
    "data['cleaned_text'] = data['lemmatized_token'].apply(lambda tokens: ' '.join(tokens))\n"
   ]
  },
  {
   "cell_type": "code",
   "execution_count": 21,
   "id": "50721239-e0fe-427b-b7ba-881cdb402f4c",
   "metadata": {},
   "outputs": [
    {
     "data": {
      "text/html": [
       "<div>\n",
       "<style scoped>\n",
       "    .dataframe tbody tr th:only-of-type {\n",
       "        vertical-align: middle;\n",
       "    }\n",
       "\n",
       "    .dataframe tbody tr th {\n",
       "        vertical-align: top;\n",
       "    }\n",
       "\n",
       "    .dataframe thead th {\n",
       "        text-align: right;\n",
       "    }\n",
       "</style>\n",
       "<table border=\"1\" class=\"dataframe\">\n",
       "  <thead>\n",
       "    <tr style=\"text-align: right;\">\n",
       "      <th></th>\n",
       "      <th>Unnamed: 0</th>\n",
       "      <th>comment</th>\n",
       "      <th>label</th>\n",
       "      <th>token</th>\n",
       "      <th>stemmed_token</th>\n",
       "      <th>lemmatized_token</th>\n",
       "      <th>cleaned_text</th>\n",
       "    </tr>\n",
       "  </thead>\n",
       "  <tbody>\n",
       "    <tr>\n",
       "      <th>0</th>\n",
       "      <td>1</td>\n",
       "      <td>dalits lowlives</td>\n",
       "      <td>N</td>\n",
       "      <td>[dalits, lowlives]</td>\n",
       "      <td>[dalit, lowliv]</td>\n",
       "      <td>[dalit, lowliv]</td>\n",
       "      <td>dalit lowliv</td>\n",
       "    </tr>\n",
       "    <tr>\n",
       "      <th>1</th>\n",
       "      <td>2</td>\n",
       "      <td>gay people burden society</td>\n",
       "      <td>N</td>\n",
       "      <td>[gay, people, burden, society]</td>\n",
       "      <td>[gay, peopl, burden, societi]</td>\n",
       "      <td>[gay, peopl, burden, societi]</td>\n",
       "      <td>gay peopl burden societi</td>\n",
       "    </tr>\n",
       "    <tr>\n",
       "      <th>2</th>\n",
       "      <td>3</td>\n",
       "      <td>arabs welcome</td>\n",
       "      <td>N</td>\n",
       "      <td>[arabs, welcome]</td>\n",
       "      <td>[arab, welcom]</td>\n",
       "      <td>[arab, welcom]</td>\n",
       "      <td>arab welcom</td>\n",
       "    </tr>\n",
       "    <tr>\n",
       "      <th>3</th>\n",
       "      <td>4</td>\n",
       "      <td>im saying actually eliminate heebs wish naturally became extinct</td>\n",
       "      <td>N</td>\n",
       "      <td>[im, saying, actually, eliminate, heebs, wish, naturally, became, extinct]</td>\n",
       "      <td>[im, say, actual, elimin, heeb, wish, natur, becam, extinct]</td>\n",
       "      <td>[im, say, actual, elimin, heeb, wish, natur, becam, extinct]</td>\n",
       "      <td>im say actual elimin heeb wish natur becam extinct</td>\n",
       "    </tr>\n",
       "    <tr>\n",
       "      <th>4</th>\n",
       "      <td>5</td>\n",
       "      <td>bananas black people</td>\n",
       "      <td>N</td>\n",
       "      <td>[bananas, black, people]</td>\n",
       "      <td>[banana, black, peopl]</td>\n",
       "      <td>[banana, black, peopl]</td>\n",
       "      <td>banana black peopl</td>\n",
       "    </tr>\n",
       "    <tr>\n",
       "      <th>...</th>\n",
       "      <td>...</td>\n",
       "      <td>...</td>\n",
       "      <td>...</td>\n",
       "      <td>...</td>\n",
       "      <td>...</td>\n",
       "      <td>...</td>\n",
       "      <td>...</td>\n",
       "    </tr>\n",
       "    <tr>\n",
       "      <th>41139</th>\n",
       "      <td>117100</td>\n",
       "      <td>indian culture backwards</td>\n",
       "      <td>N</td>\n",
       "      <td>[indian, culture, backwards]</td>\n",
       "      <td>[indian, cultur, backward]</td>\n",
       "      <td>[indian, cultur, backward]</td>\n",
       "      <td>indian cultur backward</td>\n",
       "    </tr>\n",
       "    <tr>\n",
       "      <th>41140</th>\n",
       "      <td>118100</td>\n",
       "      <td>women dont want equality want charge</td>\n",
       "      <td>N</td>\n",
       "      <td>[women, dont, want, equality, want, charge]</td>\n",
       "      <td>[women, dont, want, equal, want, charg]</td>\n",
       "      <td>[woman, dont, want, equal, want, charg]</td>\n",
       "      <td>woman dont want equal want charg</td>\n",
       "    </tr>\n",
       "    <tr>\n",
       "      <th>41141</th>\n",
       "      <td>119100</td>\n",
       "      <td>fuck covid</td>\n",
       "      <td>P</td>\n",
       "      <td>[fuck, covid]</td>\n",
       "      <td>[fuck, covid]</td>\n",
       "      <td>[fuck, covid]</td>\n",
       "      <td>fuck covid</td>\n",
       "    </tr>\n",
       "    <tr>\n",
       "      <th>41142</th>\n",
       "      <td>1205</td>\n",
       "      <td>computer garbage</td>\n",
       "      <td>P</td>\n",
       "      <td>[computer, garbage]</td>\n",
       "      <td>[comput, garbag]</td>\n",
       "      <td>[comput, garbag]</td>\n",
       "      <td>comput garbag</td>\n",
       "    </tr>\n",
       "    <tr>\n",
       "      <th>41143</th>\n",
       "      <td>121100</td>\n",
       "      <td>good muslim dead one</td>\n",
       "      <td>N</td>\n",
       "      <td>[good, muslim, dead, one]</td>\n",
       "      <td>[good, muslim, dead, one]</td>\n",
       "      <td>[good, muslim, dead, one]</td>\n",
       "      <td>good muslim dead one</td>\n",
       "    </tr>\n",
       "  </tbody>\n",
       "</table>\n",
       "<p>41144 rows × 7 columns</p>\n",
       "</div>"
      ],
      "text/plain": [
       "       Unnamed: 0  \\\n",
       "0               1   \n",
       "1               2   \n",
       "2               3   \n",
       "3               4   \n",
       "4               5   \n",
       "...           ...   \n",
       "41139      117100   \n",
       "41140      118100   \n",
       "41141      119100   \n",
       "41142        1205   \n",
       "41143      121100   \n",
       "\n",
       "                                                                comment label  \\\n",
       "0                                                       dalits lowlives     N   \n",
       "1                                             gay people burden society     N   \n",
       "2                                                         arabs welcome     N   \n",
       "3      im saying actually eliminate heebs wish naturally became extinct     N   \n",
       "4                                                  bananas black people     N   \n",
       "...                                                                 ...   ...   \n",
       "41139                                          indian culture backwards     N   \n",
       "41140                              women dont want equality want charge     N   \n",
       "41141                                                        fuck covid     P   \n",
       "41142                                                  computer garbage     P   \n",
       "41143                                              good muslim dead one     N   \n",
       "\n",
       "                                                                            token  \\\n",
       "0                                                              [dalits, lowlives]   \n",
       "1                                                  [gay, people, burden, society]   \n",
       "2                                                                [arabs, welcome]   \n",
       "3      [im, saying, actually, eliminate, heebs, wish, naturally, became, extinct]   \n",
       "4                                                        [bananas, black, people]   \n",
       "...                                                                           ...   \n",
       "41139                                                [indian, culture, backwards]   \n",
       "41140                                 [women, dont, want, equality, want, charge]   \n",
       "41141                                                               [fuck, covid]   \n",
       "41142                                                         [computer, garbage]   \n",
       "41143                                                   [good, muslim, dead, one]   \n",
       "\n",
       "                                                      stemmed_token  \\\n",
       "0                                                   [dalit, lowliv]   \n",
       "1                                     [gay, peopl, burden, societi]   \n",
       "2                                                    [arab, welcom]   \n",
       "3      [im, say, actual, elimin, heeb, wish, natur, becam, extinct]   \n",
       "4                                            [banana, black, peopl]   \n",
       "...                                                             ...   \n",
       "41139                                    [indian, cultur, backward]   \n",
       "41140                       [women, dont, want, equal, want, charg]   \n",
       "41141                                                 [fuck, covid]   \n",
       "41142                                              [comput, garbag]   \n",
       "41143                                     [good, muslim, dead, one]   \n",
       "\n",
       "                                                   lemmatized_token  \\\n",
       "0                                                   [dalit, lowliv]   \n",
       "1                                     [gay, peopl, burden, societi]   \n",
       "2                                                    [arab, welcom]   \n",
       "3      [im, say, actual, elimin, heeb, wish, natur, becam, extinct]   \n",
       "4                                            [banana, black, peopl]   \n",
       "...                                                             ...   \n",
       "41139                                    [indian, cultur, backward]   \n",
       "41140                       [woman, dont, want, equal, want, charg]   \n",
       "41141                                                 [fuck, covid]   \n",
       "41142                                              [comput, garbag]   \n",
       "41143                                     [good, muslim, dead, one]   \n",
       "\n",
       "                                             cleaned_text  \n",
       "0                                            dalit lowliv  \n",
       "1                                gay peopl burden societi  \n",
       "2                                             arab welcom  \n",
       "3      im say actual elimin heeb wish natur becam extinct  \n",
       "4                                      banana black peopl  \n",
       "...                                                   ...  \n",
       "41139                              indian cultur backward  \n",
       "41140                    woman dont want equal want charg  \n",
       "41141                                          fuck covid  \n",
       "41142                                       comput garbag  \n",
       "41143                                good muslim dead one  \n",
       "\n",
       "[41144 rows x 7 columns]"
      ]
     },
     "execution_count": 21,
     "metadata": {},
     "output_type": "execute_result"
    }
   ],
   "source": [
    "data"
   ]
  }
 ],
 "metadata": {
  "kernelspec": {
   "display_name": "Python 3 (ipykernel)",
   "language": "python",
   "name": "python3"
  },
  "language_info": {
   "codemirror_mode": {
    "name": "ipython",
    "version": 3
   },
   "file_extension": ".py",
   "mimetype": "text/x-python",
   "name": "python",
   "nbconvert_exporter": "python",
   "pygments_lexer": "ipython3",
   "version": "3.11.7"
  }
 },
 "nbformat": 4,
 "nbformat_minor": 5
}
