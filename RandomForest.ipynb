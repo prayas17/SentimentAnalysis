{
 "cells": [
  {
   "cell_type": "markdown",
   "id": "fa26b87c-d8d7-44aa-9574-ff9227a9db85",
   "metadata": {},
   "source": [
    "### Here doing Data cleaning and pre processing directly because I have done it clearly and seperately line by line in \n",
    "### DataCleaning and EDA Notebook"
   ]
  },
  {
   "cell_type": "code",
   "execution_count": 1,
   "id": "893a4533-2ae7-4243-8829-50ab7b307a6e",
   "metadata": {},
   "outputs": [
    {
     "name": "stderr",
     "output_type": "stream",
     "text": [
      "[nltk_data] Downloading package stopwords to C:\\Users\\Prayas\n",
      "[nltk_data]     jain\\AppData\\Roaming\\nltk_data...\n",
      "[nltk_data]   Package stopwords is already up-to-date!\n",
      "[nltk_data] Downloading package punkt to C:\\Users\\Prayas\n",
      "[nltk_data]     jain\\AppData\\Roaming\\nltk_data...\n",
      "[nltk_data]   Package punkt is already up-to-date!\n",
      "[nltk_data] Downloading package wordnet to C:\\Users\\Prayas\n",
      "[nltk_data]     jain\\AppData\\Roaming\\nltk_data...\n",
      "[nltk_data]   Package wordnet is already up-to-date!\n"
     ]
    }
   ],
   "source": [
    "import pandas as pd\n",
    "import re\n",
    "import nltk\n",
    "from nltk.corpus import stopwords\n",
    "from nltk.tokenize import word_tokenize\n",
    "from nltk.stem import PorterStemmer, WordNetLemmatizer\n",
    "\n",
    "# Function for preprocessing text data\n",
    "def preprocess_text(df, text_column):\n",
    "    # Lowercase the text\n",
    "    df[text_column] = df[text_column].str.lower()\n",
    "    \n",
    "    # Remove special characters, punctuation, and symbols\n",
    "    def remove_special_characters(text):\n",
    "        pattern = r'[^a-zA-Z0-9\\s]'  # Define regex pattern\n",
    "        return re.sub(pattern, '', text)\n",
    "    \n",
    "    df[text_column] = df[text_column].apply(remove_special_characters)\n",
    "    \n",
    "    # Remove numbers\n",
    "    def remove_numbers(text):\n",
    "        pattern = r'\\b\\d+\\b'  # Define regex pattern to match any standalone number\n",
    "        return re.sub(pattern, '', text)\n",
    "    \n",
    "    df[text_column] = df[text_column].apply(remove_numbers)\n",
    "    \n",
    "    # Download stopwords list\n",
    "    nltk.download('stopwords')\n",
    "    stop_words = set(stopwords.words('english'))\n",
    "    \n",
    "    # Remove stopwords\n",
    "    def remove_stopwords(text):\n",
    "        cleaned_text = ' '.join([word for word in text.split() if word not in stop_words])\n",
    "        return cleaned_text\n",
    "    \n",
    "    df[text_column] = df[text_column].apply(remove_stopwords)\n",
    "    \n",
    "    # Tokenize text\n",
    "    nltk.download('punkt')\n",
    "    def tokenize_text(text):\n",
    "        return word_tokenize(text)\n",
    "    \n",
    "    df['token'] = df[text_column].apply(tokenize_text)\n",
    "    \n",
    "    # Stemming\n",
    "    stemmer = PorterStemmer()\n",
    "    def stem_tokens(tokens):\n",
    "        stemmed_tokens = [stemmer.stem(token) for token in tokens]\n",
    "        return stemmed_tokens\n",
    "    \n",
    "    df['stemmed_token'] = df['token'].apply(stem_tokens)\n",
    "    \n",
    "    # Lemmatization\n",
    "    nltk.download('wordnet')\n",
    "    lemmatizer = WordNetLemmatizer()\n",
    "    def lemmatize_tokens(tokens):\n",
    "        lemmatized_tokens = [lemmatizer.lemmatize(token) for token in tokens]\n",
    "        return lemmatized_tokens\n",
    "    \n",
    "    df['lemmatized_token'] = df['stemmed_token'].apply(lemmatize_tokens)\n",
    "    \n",
    "    # Combine tokens into cleaned text\n",
    "    df['cleaned_text'] = df['lemmatized_token'].apply(lambda tokens: ' '.join(tokens))\n",
    "    \n",
    "    return df\n",
    "\n",
    "# Load data\n",
    "data = pd.read_csv(\"hate.csv\" , encoding='latin1')  \n",
    "\n",
    "# Preprocess text data\n",
    "data = preprocess_text(data, 'comment')\n"
   ]
  },
  {
   "cell_type": "markdown",
   "id": "cab5fa09-1ae6-4aac-b189-0287a8b6b7cb",
   "metadata": {},
   "source": [
    "# Random Forest with TF-IDF Vectorization"
   ]
  },
  {
   "cell_type": "code",
   "execution_count": 2,
   "id": "2260a6d3-1606-4353-825d-207dfddb3d29",
   "metadata": {},
   "outputs": [
    {
     "name": "stdout",
     "output_type": "stream",
     "text": [
      "Training Accuracy: 0.9893665502050737\n",
      "Test Accuracy: 0.619880908980435\n",
      "Training Precision: 0.9893725362379969\n",
      "Test Precision: 0.6183325510149145\n",
      "Training Recall: 0.9893665502050737\n",
      "Test Recall: 0.619880908980435\n",
      "Training F1-score: 0.9893647343371414\n",
      "Test F1-score: 0.6175192336638607\n"
     ]
    },
    {
     "name": "stderr",
     "output_type": "stream",
     "text": [
      "C:\\ProgramData\\anaconda3\\Lib\\site-packages\\sklearn\\metrics\\_classification.py:1344: UndefinedMetricWarning: Precision is ill-defined and being set to 0.0 in labels with no predicted samples. Use `zero_division` parameter to control this behavior.\n",
      "  _warn_prf(average, modifier, msg_start, len(result))\n"
     ]
    }
   ],
   "source": [
    "from sklearn.model_selection import train_test_split\n",
    "from sklearn.feature_extraction.text import TfidfVectorizer\n",
    "from sklearn.ensemble import RandomForestClassifier\n",
    "from sklearn.metrics import accuracy_score, precision_score, recall_score, f1_score\n",
    "from sklearn.preprocessing import LabelEncoder\n",
    "\n",
    "# TF-IDF vectorization\n",
    "tfidf_vectorizer = TfidfVectorizer(max_features=5000)  # You can adjust max_features as needed\n",
    "X = tfidf_vectorizer.fit_transform(data['cleaned_text'])\n",
    "y = data['label']\n",
    "\n",
    "# Convert categorical labels to numerical labels\n",
    "label_encoder = LabelEncoder()\n",
    "y_encoded = label_encoder.fit_transform(y)\n",
    "\n",
    "# Split data into train and test sets\n",
    "X_train, X_test, y_train, y_test = train_test_split(X, y_encoded, test_size=0.2, random_state=42)\n",
    "\n",
    "# Train Random Forest model\n",
    "rf_classifier = RandomForestClassifier()\n",
    "rf_classifier.fit(X_train, y_train)\n",
    "\n",
    "# Predictions\n",
    "y_pred_train = rf_classifier.predict(X_train)\n",
    "y_pred_test = rf_classifier.predict(X_test)\n",
    "\n",
    "# Evaluate model\n",
    "train_accuracy = accuracy_score(y_train, y_pred_train)\n",
    "test_accuracy = accuracy_score(y_test, y_pred_test)\n",
    "print(\"Training Accuracy:\", train_accuracy)\n",
    "print(\"Test Accuracy:\", test_accuracy)\n",
    "\n",
    "# Calculate precision, recall, and F1-score for training set\n",
    "train_precision = precision_score(y_train, y_pred_train, average='weighted')\n",
    "train_recall = recall_score(y_train, y_pred_train, average='weighted')\n",
    "train_f1 = f1_score(y_train, y_pred_train, average='weighted')\n",
    "\n",
    "test_precision = precision_score(y_test, y_pred_test, average='weighted')\n",
    "test_recall = recall_score(y_test, y_pred_test, average='weighted')\n",
    "test_f1 = f1_score(y_test, y_pred_test, average='weighted')\n",
    "\n",
    "print(\"Training Precision:\", train_precision)\n",
    "print(\"Test Precision:\", test_precision)\n",
    "\n",
    "print(\"Training Recall:\", train_recall)\n",
    "print(\"Test Recall:\", test_recall)\n",
    "\n",
    "print(\"Training F1-score:\", train_f1)\n",
    "print(\"Test F1-score:\", test_f1)\n"
   ]
  },
  {
   "cell_type": "code",
   "execution_count": 3,
   "id": "36e46a5a-e631-4ae6-b207-2a6605ac1786",
   "metadata": {},
   "outputs": [
    {
     "data": {
      "image/png": "[encoded data removed]",
      "text/plain": [
       "<Figure size 1000x600 with 1 Axes>"
      ]
     },
     "metadata": {},
     "output_type": "display_data"
    }
   ],
   "source": [
    "import matplotlib.pyplot as plt\n",
    "\n",
    "# Data for plotting\n",
    "metrics = ['Accuracy', 'Precision', 'Recall', 'F1-score']\n",
    "train_scores = [train_accuracy, train_precision, train_recall, train_f1]\n",
    "test_scores = [test_accuracy, test_precision, test_recall, test_f1]\n",
    "\n",
    "# Plotting\n",
    "plt.figure(figsize=(10, 6))\n",
    "\n",
    "# Plot training scores\n",
    "plt.plot(metrics, train_scores, marker='o', label='Training', color='blue')\n",
    "\n",
    "# Plot test scores\n",
    "plt.plot(metrics, test_scores, marker='o', label='Test', color='orange')\n",
    "\n",
    "# Add labels and title\n",
    "plt.title('Model Performance Metrics - Random Forest')\n",
    "plt.xlabel('Metrics')\n",
    "plt.ylabel('Score')\n",
    "plt.legend()\n",
    "plt.grid(True)\n",
    "\n",
    "# Show plot\n",
    "plt.show()\n"
   ]
  }
 ],
 "metadata": {
  "kernelspec": {
   "display_name": "Python 3 (ipykernel)",
   "language": "python",
   "name": "python3"
  },
  "language_info": {
   "codemirror_mode": {
    "name": "ipython",
    "version": 3
   },
   "file_extension": ".py",
   "mimetype": "text/x-python",
   "name": "python",
   "nbconvert_exporter": "python",
   "pygments_lexer": "ipython3",
   "version": "3.11.7"
  }
 },
 "nbformat": 4,
 "nbformat_minor": 5
}
